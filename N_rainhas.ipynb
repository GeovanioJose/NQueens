{
  "nbformat": 4,
  "nbformat_minor": 0,
  "metadata": {
    "colab": {
      "provenance": [],
      "authorship_tag": "ABX9TyOessjqR6w+rtAgEgDMS/L/",
      "include_colab_link": true
    },
    "kernelspec": {
      "name": "python3",
      "display_name": "Python 3"
    },
    "language_info": {
      "name": "python"
    }
  },
  "cells": [
    {
      "cell_type": "markdown",
      "metadata": {
        "id": "view-in-github",
        "colab_type": "text"
      },
      "source": [
        "<a href=\"https://colab.research.google.com/github/GeovanioJose/NQueens/blob/main/N_rainhas.ipynb\" target=\"_parent\"><img src=\"https://colab.research.google.com/assets/colab-badge.svg\" alt=\"Open In Colab\"/></a>"
      ]
    },
    {
      "cell_type": "markdown",
      "source": [
        "###UNIVERSIDADE FEDERAL DO AGRESTE DE PERNAMBUCO\n",
        "####PROJETO E ANÁLOISE DE ALGORITMOS\n",
        "####Prof. Dr. Álvaro Alvares Sobrinho\n",
        "####Discente: Geovânio josé da Silva\n"
      ],
      "metadata": {
        "id": "NcwfUqYpUkzE"
      }
    },
    {
      "cell_type": "markdown",
      "source": [
        "###Problema das n-rainhas\n",
        "\n",
        "O quebra-cabeça N-rainhas é o problema de colocar N rainhas de xadrez em um N × N tabuleiro de xadrez para que duas rainhas não se ameacem. Assim, a solução requer que duas rainhas não compartilhem a mesma linha, coluna ou diagonal.\n",
        "\n",
        "Como o número de rainhas é igual às dimensões do tabuleiro, é obrigatório ter sempre uma rainha por cada linha do tabuleiro. Sendo assim, a posição das rainhas no tabuleiro pode ser representada por um vector de N linhas que a cada linha associa a coluna em que a rainha está colocada nessa linha\n",
        "\n",
        "Podemos resolver este problema com a ajuda de backtracking. A ideia é começar da primeira linha e colocar Rainha em cada casa da primeira linha e explorar recursivamentemente as linhas restantes para verificar se elas levam à solução ou não. Se a configuração atual não resultar em uma solução, volte atrás. Antes de explorar qualquer casa, ignore a casa se duas rainhas ameaçarem uma à outra."
      ],
      "metadata": {
        "id": "LGNAZzq4U9NZ"
      }
    },
    {
      "cell_type": "code",
      "source": [
        "# Função para verificar se duas rainhas se ameaçam ou não\n",
        "def isSafe(check, r, c):\n",
        " \n",
        "    # retorna false se duas rainhas compartilham a mesma coluna\n",
        "    for i in range(r):\n",
        "        if check[i][c] == 'Q':\n",
        "            return False\n",
        " \n",
        "    # retorna false se duas rainhas compartilham a mesma `` diagonal\n",
        "    (i, j) = (r, c)\n",
        "    while i >= 0 and j >= 0:\n",
        "        if check[i][j] == 'Q':\n",
        "            return False\n",
        "        i = i - 1\n",
        "        j = j - 1\n",
        " \n",
        "    # retorna false se duas rainhas compartilham a mesma diagonal `/`\n",
        "    (i, j) = (r, c)\n",
        "    while i >= 0 and j < len(check):\n",
        "        if check[i][j] == 'Q':\n",
        "            return False\n",
        "        i = i - 1\n",
        "        j = j + 1\n",
        " \n",
        "    return True\n",
        " \n",
        " \n",
        "def printSolution(check):\n",
        "    for r in check:\n",
        "        print(str(r).replace(',', '').replace('\\'', ''))\n",
        "    print()\n",
        " \n",
        " \n",
        "def nQueen(check, r):\n",
        " \n",
        "    # se `N` rainhas forem colocadas com sucesso, imprima a solução\n",
        "    if r == len(check):\n",
        "        printSolution(check)\n",
        "        return\n",
        " \n",
        "    # coloca a rainha em cada casa na linha atual `r`\n",
        "    # e recorrente para cada movimento válido\n",
        "    for i in range(len(check)):\n",
        " \n",
        "        # se não houver duas rainhas ameaçando uma à outra\n",
        "        if isSafe(check, r, i):\n",
        "            # coloca rainha na casa atual\n",
        "            check[r][i] = 'Q'\n",
        " \n",
        "            # recorrente para a próxima linha\n",
        "            nQueen(check, r + 1)\n",
        " \n",
        "            # retroceder e remover a rainha da casa atual\n",
        "            check[r][i] = '–'\n",
        " \n",
        " \n",
        "if __name__ == '__main__':\n",
        " \n",
        "    # `N × N` tabuleiro de xadrez\n",
        "    N = 6\n",
        " \n",
        "    # `check[][]` mantém o controle da posição das rainhas em\n",
        "    # a configuração atual\n",
        "    check = [['–' for x in range(N)] for y in range(N)]\n",
        " \n",
        "    nQueen(check, 0)\n",
        " "
      ],
      "metadata": {
        "colab": {
          "base_uri": "https://localhost:8080/"
        },
        "id": "uLah1OOuCzvi",
        "outputId": "7a9a41aa-08b2-44f2-9ae2-98d6c0212c31"
      },
      "execution_count": null,
      "outputs": [
        {
          "output_type": "stream",
          "name": "stdout",
          "text": [
            "[– Q – – – –]\n",
            "[– – – Q – –]\n",
            "[– – – – – Q]\n",
            "[Q – – – – –]\n",
            "[– – Q – – –]\n",
            "[– – – – Q –]\n",
            "\n",
            "[– – Q – – –]\n",
            "[– – – – – Q]\n",
            "[– Q – – – –]\n",
            "[– – – – Q –]\n",
            "[Q – – – – –]\n",
            "[– – – Q – –]\n",
            "\n",
            "[– – – Q – –]\n",
            "[Q – – – – –]\n",
            "[– – – – Q –]\n",
            "[– Q – – – –]\n",
            "[– – – – – Q]\n",
            "[– – Q – – –]\n",
            "\n",
            "[– – – – Q –]\n",
            "[– – Q – – –]\n",
            "[Q – – – – –]\n",
            "[– – – – – Q]\n",
            "[– – – Q – –]\n",
            "[– Q – – – –]\n",
            "\n"
          ]
        }
      ]
    }
  ]
}